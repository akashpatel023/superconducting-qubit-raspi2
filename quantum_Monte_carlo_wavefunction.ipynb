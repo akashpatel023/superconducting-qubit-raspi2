{
 "cells": [
  {
   "cell_type": "code",
   "execution_count": 21,
   "id": "weekly-alert",
   "metadata": {},
   "outputs": [],
   "source": [
    "import numpy as np\n",
    "import matplotlib.pyplot as plt\n",
    "from numpy import random\n",
    "import scipy.linalg as lg"
   ]
  },
  {
   "cell_type": "code",
   "execution_count": 22,
   "id": "objective-gateway",
   "metadata": {},
   "outputs": [
    {
     "name": "stdout",
     "output_type": "stream",
     "text": [
      "(40001,)\n",
      "40000\n"
     ]
    }
   ],
   "source": [
    "dt = 0.0001\n",
    "t = 4.0000\n",
    "step = int(t/dt)\n",
    "fns = 100\n",
    "hbar = 1 \n",
    "gamma = 1\n",
    "w_t = 1.0 * 2 * np.pi\n",
    "tlist = np.arange(0,4.0001,dt)\n",
    "print(tlist.shape)\n",
    "print(step)"
   ]
  },
  {
   "cell_type": "code",
   "execution_count": 23,
   "id": "lasting-taylor",
   "metadata": {},
   "outputs": [],
   "source": [
    "def a(n):\n",
    "    '''\n",
    "        returns the annihilation operator for maximum n photons\n",
    "    '''\n",
    "    a = np.zeros((n+1,n+1))\n",
    "    b = np.arange(1,n+1)\n",
    "    np.fill_diagonal(a[:,1:],np.sqrt(b))\n",
    "    return a\n",
    "\n",
    "def adagger(n):\n",
    "    '''\n",
    "        returns the creation operator for maximum n photons\n",
    "    '''\n",
    "    return a(n).conj().T\n"
   ]
  },
  {
   "cell_type": "code",
   "execution_count": 24,
   "id": "green-williams",
   "metadata": {},
   "outputs": [
    {
     "name": "stdout",
     "output_type": "stream",
     "text": [
      "[[0.         0.        ]\n",
      " [0.         6.28318531]]\n",
      "[[0. 1.]\n",
      " [0. 0.]]\n"
     ]
    }
   ],
   "source": [
    "# creating time evolution operator when no jump happens \n",
    "\n",
    "H = w_t * np.dot(adagger(1),a(1))\n",
    "\n",
    "H_eff = H - ((1j)*hbar*gamma)/2 * np.dot(adagger(1),a(1)) \n",
    "U = np.eye(2) - ((1j)*dt)/hbar * H_eff\n",
    "\n",
    "print(H)\n",
    "\n",
    "# L operator\n",
    "\n",
    "L = np.sqrt(gamma) * a(1)\n",
    "print(L)\n",
    "\n"
   ]
  },
  {
   "cell_type": "code",
   "execution_count": 25,
   "id": "checked-dryer",
   "metadata": {},
   "outputs": [],
   "source": [
    "# initialising the wave function \n",
    "psi_0 = np.array([[1/np.sqrt(2)],[1/np.sqrt(2)]])\n",
    "\n",
    "#dp = gamma*dt* psi_0[1,0]**2\n",
    "\n",
    "#print(np.dot(L,psi_0)/np.sqrt(dp/dt))\n",
    "\n",
    "# initial evolution \n",
    "\n",
    "#psi_f = np.zeros((2,1))\n",
    "#print(psi_0)\n",
    "#psi_f = np.dot(U,psi_0)\n",
    "#print(psi_f)\n",
    "#k = lg.norm(psi_f)\n",
    "#print(k)\n"
   ]
  },
  {
   "cell_type": "code",
   "execution_count": 26,
   "id": "elementary-connection",
   "metadata": {},
   "outputs": [
    {
     "name": "stdout",
     "output_type": "stream",
     "text": [
      "[[0.         0.        ]\n",
      " [0.         6.28318531]]\n"
     ]
    }
   ],
   "source": [
    "#H = np.array([[-1*1j*hbar*gamma*(1/2), -3*hbar*gamma],[ -3*hbar*gamma, 0]])\n",
    "print(H)\n",
    "#k = (1/hbar) * H\n",
    "#U = np.eye(2) - 1j * (1/hbar)* dt * H\n",
    "U_dagger = U.conj().T\n",
    "\n",
    "\n"
   ]
  },
  {
   "cell_type": "code",
   "execution_count": 28,
   "id": "iraqi-villa",
   "metadata": {},
   "outputs": [
    {
     "name": "stdout",
     "output_type": "stream",
     "text": [
      "(200, 40001)\n"
     ]
    },
    {
     "name": "stderr",
     "output_type": "stream",
     "text": [
      "/home/pi/.local/lib/python3.7/site-packages/ipykernel_launcher.py:40: ComplexWarning: Casting complex values to real discards the imaginary part\n"
     ]
    },
    {
     "data": {
      "text/plain": [
       "<matplotlib.legend.Legend at 0x6da37ff0>"
      ]
     },
     "execution_count": 28,
     "metadata": {},
     "output_type": "execute_result"
    },
    {
     "data": {
      "image/png": "[encoded data removed]",
      "text/plain": [
       "<Figure size 432x288 with 1 Axes>"
      ]
     },
     "metadata": {
      "needs_background": "light"
     },
     "output_type": "display_data"
    }
   ],
   "source": [
    "def QMCWF(U,L,psi_0,step):\n",
    "    \n",
    "    psi_f = psi_0\n",
    "    psi_n = psi_0\n",
    "    prob_g = np.zeros(step+1)\n",
    "    prob_e = np.zeros(step+1)\n",
    "    prob_g[0] = abs(psi_0[0,0])**2\n",
    "    prob_e[0] = abs(psi_0[1,0])**2\n",
    "    \n",
    "    for t in range(step):\n",
    "        size = np.dot(np.dot(psi_0.conj().T,U_dagger),np.dot(U,psi_0))\n",
    "        no_jump_prob = float(size[0,0])\n",
    "        epsilon = random.rand()\n",
    "        if epsilon < no_jump_prob :\n",
    "            psi_f = np.dot(U,psi_0)\n",
    "            psi_n = psi_f/np.sqrt(1-dp)\n",
    "            prob_g[t+1] = abs(psi_n[0,0])**2\n",
    "            \n",
    "            prob_e[t+1] = abs(psi_n[1,0])**2\n",
    "            psi_0 = psi_n\n",
    "        else :\n",
    "            psi_n = np.dot(L,psi_0)/np.sqrt(dp/dt)\n",
    "            prob_g[t+1] = abs(psi_n[0,0])**2\n",
    "            prob_e[t+1] = abs(psi_n[1,0])**2\n",
    "            prob_g[t+2:step+2] = 1\n",
    "            break\n",
    "    print(prob_g.shape)\n",
    "    return psi_n,prob_g,prob_e\n",
    "\n",
    "def QMCWF2(U,L,psi_0i,step):\n",
    "    \n",
    "    psi_f = psi_0i\n",
    "    psi_n = psi_0i\n",
    "    prob_g = np.zeros(step+1)\n",
    "    prob_e = np.zeros(step+1)\n",
    "    prob_g[0] = abs(psi_0i[0,0])**2\n",
    "    prob_e[0] = abs(psi_0i[1,0])**2\n",
    "    for t in range(step):\n",
    "        size = np.dot(np.dot(psi_0i.conj().T,U_dagger),np.dot(U,psi_0i))\n",
    "        jump_prob = 1.0 - float(size[0,0])\n",
    "        #print(size)\n",
    "        epsilon = random.rand()\n",
    "        if epsilon > jump_prob:\n",
    "            psi_f = np.dot(U,psi_0i)\n",
    "            psi_n = psi_f/lg.norm(psi_f)\n",
    "            prob_g[t+1] = abs(psi_n[0,0])**2\n",
    "            prob_e[t+1] = abs(psi_n[1,0])**2\n",
    "            psi_0i = psi_n\n",
    "        else :\n",
    "            psi_f = np.dot(L,psi_0i)\n",
    "            psi_n = psi_f/lg.norm(psi_f)\n",
    "            prob_g[t+1] = abs(psi_n[0,0])**2\n",
    "            prob_e[t+1] = abs(psi_n[1,0])**2\n",
    "            prob_g[t+2:step+2] = 1\n",
    "            break\n",
    "    return prob_g,prob_e\n",
    "print(np.zeros((200,step+1)).shape)  \n",
    "ground_prob,exited_prob = QMCWF2(U,L,psi_0,step)\n",
    "plt.plot(tlist,ground_prob,label = \"ground state\")\n",
    "plt.plot(tlist,exited_prob, label = \"exited state\")\n",
    "plt.legend()"
   ]
  },
  {
   "cell_type": "code",
   "execution_count": 36,
   "id": "corrected-sensitivity",
   "metadata": {},
   "outputs": [
    {
     "name": "stderr",
     "output_type": "stream",
     "text": [
      "/home/pi/.local/lib/python3.7/site-packages/ipykernel_launcher.py:40: ComplexWarning: Casting complex values to real discards the imaginary part\n"
     ]
    },
    {
     "name": "stdout",
     "output_type": "stream",
     "text": [
      "[0.5000249 0.5000249]\n",
      "[0.4999751 0.4999751]\n"
     ]
    }
   ],
   "source": [
    "ground_prob = np.zeros((2,step+1))\n",
    "exited_prob = np.zeros((2,step+1))\n",
    "for i in range(2):\n",
    "    ground_prob[i,:],exited_prob[i,:] = QMCWF2(U,L,psi_0,step)\n",
    "\n",
    "ground_avg = np.zeros(step+1)\n",
    "exited_avg = np.zeros(step+1)\n",
    "\n",
    "print( ground_prob[:,1])\n",
    "print(exited_prob[:,1])\n",
    "for i in range(step+1):\n",
    "    ground_avg[i] = np.sum(ground_prob[:,i])/5\n",
    "    exited_avg[i] = np.sum(exited_prob[:,i])/5\n",
    "    \n",
    "\n",
    "plt.plot(tlist,ground_avg,label = \"ground state\")\n",
    "plt.plot(tlist,exited_avg, label = \"exited state\")\n",
    "plt.legend()\n"
   ]
  },
  {
   "cell_type": "code",
   "execution_count": 37,
   "id": "square-brooks",
   "metadata": {},
   "outputs": [
    {
     "data": {
      "text/plain": [
       "<matplotlib.legend.Legend at 0x6cc7a470>"
      ]
     },
     "execution_count": 37,
     "metadata": {},
     "output_type": "execute_result"
    },
    {
     "data": {
      "image/png": "[encoded data removed]",
      "text/plain": [
       "<Figure size 432x288 with 1 Axes>"
      ]
     },
     "metadata": {
      "needs_background": "light"
     },
     "output_type": "display_data"
    }
   ],
   "source": [
    "ground_avg = np.zeros(step+1)\n",
    "exited_avg = np.zeros(step+1)\n",
    "for i in range(step+1):\n",
    "    ground_avg[i] = np.sum(ground_prob[:,i])/2\n",
    "    exited_avg[i] = np.sum(exited_prob[:,i])/2\n",
    "plt.plot(tlist,ground_avg,label = \"ground state\")\n",
    "plt.plot(tlist,exited_avg, label = \"exited state\")\n",
    "plt.legend()\n"
   ]
  },
  {
   "cell_type": "code",
   "execution_count": null,
   "id": "multiple-controversy",
   "metadata": {},
   "outputs": [],
   "source": []
  }
 ],
 "metadata": {
  "kernelspec": {
   "display_name": "Python 3",
   "language": "python",
   "name": "python3"
  },
  "language_info": {
   "codemirror_mode": {
    "name": "ipython",
    "version": 3
   },
   "file_extension": ".py",
   "mimetype": "text/x-python",
   "name": "python",
   "nbconvert_exporter": "python",
   "pygments_lexer": "ipython3",
   "version": "3.7.3"
  }
 },
 "nbformat": 4,
 "nbformat_minor": 5
}
