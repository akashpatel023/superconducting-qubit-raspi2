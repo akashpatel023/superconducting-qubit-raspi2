{
 "cells": [
  {
   "cell_type": "code",
   "execution_count": 1,
   "id": "weekly-alert",
   "metadata": {},
   "outputs": [],
   "source": [
    "import numpy as np\n",
    "import matplotlib.pyplot as plt\n",
    "from numpy import random\n",
    "import scipy.linalg as lg\n",
    "from scipy.optimize import curve_fit"
   ]
  },
  {
   "cell_type": "code",
   "execution_count": 2,
   "id": "objective-gateway",
   "metadata": {},
   "outputs": [
    {
     "name": "stdout",
     "output_type": "stream",
     "text": [
      "(40001,)\n",
      "40000\n"
     ]
    }
   ],
   "source": [
    "dt = 0.0001\n",
    "t = 4.0000\n",
    "step = int(t/dt)\n",
    "fns = 100\n",
    "hbar = 1 \n",
    "gamma = 2\n",
    "w_t = 1.0 * 2 * np.pi\n",
    "nth = 0.63\n",
    "tlist = np.arange(0,4.0001,dt)\n",
    "print(tlist.shape)\n",
    "print(step)"
   ]
  },
  {
   "cell_type": "code",
   "execution_count": 3,
   "id": "lasting-taylor",
   "metadata": {},
   "outputs": [],
   "source": [
    "def a(n):\n",
    "    '''\n",
    "        returns the annihilation operator for maximum n photons\n",
    "    '''\n",
    "    a = np.zeros((n+1,n+1))\n",
    "    b = np.arange(1,n+1)\n",
    "    np.fill_diagonal(a[:,1:],np.sqrt(b))\n",
    "    return a\n",
    "\n",
    "def adagger(n):\n",
    "    '''\n",
    "        returns the creation operator for maximum n photons\n",
    "    '''\n",
    "    return a(n).conj().T\n",
    "\n"
   ]
  },
  {
   "cell_type": "code",
   "execution_count": 39,
   "id": "green-williams",
   "metadata": {},
   "outputs": [
    {
     "name": "stdout",
     "output_type": "stream",
     "text": [
      "[[0.         0.        ]\n",
      " [0.         6.28318531]]\n",
      "H_eff = [[0.        +0.j 0.        +0.j]\n",
      " [0.        +0.j 6.28318531-1.j]]\n",
      "[[1.    +0.j         0.    +0.j        ]\n",
      " [0.    +0.j         0.9999-0.00062832j]]\n",
      "[[0.         1.41421356]\n",
      " [0.         0.        ]]\n",
      "U2 = [[0.9998+0.j     0.    -0.0006j]\n",
      " [0.    -0.0006j 1.    +0.j    ]]\n"
     ]
    }
   ],
   "source": [
    "c_1 = np.sqrt(gamma * (1 + nth)) * a(1)\n",
    "c_2 = np.sqrt(gamma * nth) * adagger(1)\n",
    "\n",
    "# creating time evolution operator when no jump happens \n",
    "\n",
    "\n",
    "H = w_t * np.dot(adagger(1),a(1))\n",
    "\n",
    "H_eff = H - ((1j)*hbar*gamma)/2 * np.dot(adagger(1),a(1)) \n",
    "#H_eff = H - ((1j)*hbar)/2 * (np.dot(c_1.conj().T,c_1)+ np.dot(c_2.conj().T,c_2))\n",
    "U = np.eye(2) - ((1j)*dt)/hbar * H_eff\n",
    "print(H)\n",
    "print(\"H_eff =\",H_eff)\n",
    "print(U)\n",
    "\n",
    "# L operator\n",
    "\n",
    "L = np.sqrt(gamma) * a(1)\n",
    "print(L)\n",
    "\n",
    "U2 = np.array([[1- gamma*dt, -3*1j * gamma*dt ],[-3*1j*gamma*dt, 1]],dtype = complex)\n",
    "L2 = np.array([[0,0],[2*np.sqrt(gamma),0]],dtype = complex)\n",
    "print(\"U2 =\", U2)"
   ]
  },
  {
   "cell_type": "code",
   "execution_count": 10,
   "id": "checked-dryer",
   "metadata": {},
   "outputs": [
    {
     "name": "stdout",
     "output_type": "stream",
     "text": [
      "[[0]\n",
      " [1]]\n"
     ]
    }
   ],
   "source": [
    "# initialising the wave function \n",
    "psi_0 = np.array([[0],[1]])\n",
    "\n",
    "#dp = gamma*dt* psi_0[1,0]**2\n",
    "\n",
    "#print(np.dot(L,psi_0)/np.sqrt(dp/dt))\n",
    "\n",
    "# initial evolution \n",
    "\n",
    "#psi_f = np.zeros((2,1))\n",
    "print(psi_0)\n",
    "#psi_f = np.dot(U,psi_0)\n",
    "#print(psi_f)\n",
    "#k = lg.norm(psi_f)\n",
    "#print(k)\n"
   ]
  },
  {
   "cell_type": "code",
   "execution_count": 41,
   "id": "elementary-connection",
   "metadata": {},
   "outputs": [
    {
     "name": "stdout",
     "output_type": "stream",
     "text": [
      "[[0.         0.        ]\n",
      " [0.         6.28318531]]\n"
     ]
    }
   ],
   "source": [
    "#H = np.array([[-1*1j*hbar*gamma*(1/2), -3*hbar*gamma],[ -3*hbar*gamma, 0]])\n",
    "print(H)\n",
    "#k = (1/hbar) * H\n",
    "#U = np.eye(2) - 1j * (1/hbar)* dt * H\n",
    "U_dagger = U.conj().T\n",
    "\n",
    "\n"
   ]
  },
  {
   "cell_type": "code",
   "execution_count": 42,
   "id": "iraqi-villa",
   "metadata": {},
   "outputs": [
    {
     "name": "stdout",
     "output_type": "stream",
     "text": [
      "(200, 40001)\n"
     ]
    },
    {
     "name": "stderr",
     "output_type": "stream",
     "text": [
      "/home/pi/.local/lib/python3.7/site-packages/ipykernel_launcher.py:40: ComplexWarning: Casting complex values to real discards the imaginary part\n"
     ]
    },
    {
     "data": {
      "text/plain": [
       "<matplotlib.legend.Legend at 0x6c384470>"
      ]
     },
     "execution_count": 42,
     "metadata": {},
     "output_type": "execute_result"
    },
    {
     "data": {
      "image/png": "[encoded data removed]",
      "text/plain": [
       "<Figure size 432x288 with 1 Axes>"
      ]
     },
     "metadata": {
      "needs_background": "light"
     },
     "output_type": "display_data"
    }
   ],
   "source": [
    "def QMCWF(U,L,psi_0,step):\n",
    "    \n",
    "    psi_f = psi_0\n",
    "    psi_n = psi_0\n",
    "    prob_g = np.zeros(step+1)\n",
    "    prob_e = np.zeros(step+1)\n",
    "    prob_g[0] = abs(psi_0[0,0])**2\n",
    "    prob_e[0] = abs(psi_0[1,0])**2\n",
    "    \n",
    "    for t in range(step):\n",
    "        size = np.dot(np.dot(psi_0.conj().T,U_dagger),np.dot(U,psi_0))\n",
    "        no_jump_prob = float(size[0,0])\n",
    "        epsilon = random.rand()\n",
    "        if epsilon < no_jump_prob :\n",
    "            psi_f = np.dot(U,psi_0)\n",
    "            psi_n = psi_f/np.sqrt(1-dp)\n",
    "            prob_g[t+1] = abs(psi_n[0,0])**2\n",
    "            \n",
    "            prob_e[t+1] = abs(psi_n[1,0])**2\n",
    "            psi_0 = psi_n\n",
    "        else :\n",
    "            psi_n = np.dot(L,psi_0)/np.sqrt(dp/dt)\n",
    "            prob_g[t+1] = abs(psi_n[0,0])**2\n",
    "            prob_e[t+1] = abs(psi_n[1,0])**2\n",
    "            prob_g[t+2:step+2] = 1\n",
    "            break\n",
    "    print(prob_g.shape)\n",
    "    return psi_n,prob_g,prob_e\n",
    "\n",
    "def QMCWF2(U,L,psi_0i,step):\n",
    "    \n",
    "    psi_f = psi_0i\n",
    "    psi_n = psi_0i\n",
    "    prob_g = np.zeros(step+1)\n",
    "    prob_e = np.zeros(step+1)\n",
    "    prob_g[0] = abs(psi_0i[0,0])**2\n",
    "    prob_e[0] = abs(psi_0i[1,0])**2\n",
    "    for t in range(step):\n",
    "        size = np.dot(np.dot(psi_0i.conj().T,U_dagger),np.dot(U,psi_0i))\n",
    "        jump_prob = 1.0 - float(size[0,0])\n",
    "        #print(size)\n",
    "        epsilon = random.rand()\n",
    "        if epsilon > jump_prob:\n",
    "            psi_f = np.dot(U,psi_0i)\n",
    "            psi_n = psi_f/lg.norm(psi_f)\n",
    "            #print(psi_n)\n",
    "            prob_g[t+1] = abs(psi_n[0,0])**2\n",
    "            prob_e[t+1] = abs(psi_n[1,0])**2\n",
    "            psi_0i = psi_n\n",
    "        else :\n",
    "            psi_f = np.dot(L,psi_0i)\n",
    "            psi_n = psi_f/lg.norm(psi_f)\n",
    "            prob_g[t+1] = abs(psi_n[0,0])**2\n",
    "            prob_e[t+1] = abs(psi_n[1,0])**2\n",
    "            prob_g[t+2:step+2] = 1\n",
    "            break\n",
    "    return prob_g,prob_e\n",
    "print(np.zeros((200,step+1)).shape)  \n",
    "ground_prob,exited_prob = QMCWF2(U,L,psi_0,step)\n",
    "plt.plot(tlist,ground_prob,label = \"ground state\")\n",
    "plt.plot(tlist,exited_prob, label = \"exited state\")\n",
    "plt.legend()"
   ]
  },
  {
   "cell_type": "code",
   "execution_count": 43,
   "id": "corrected-sensitivity",
   "metadata": {},
   "outputs": [
    {
     "name": "stderr",
     "output_type": "stream",
     "text": [
      "/home/pi/.local/lib/python3.7/site-packages/ipykernel_launcher.py:40: ComplexWarning: Casting complex values to real discards the imaginary part\n"
     ]
    },
    {
     "name": "stdout",
     "output_type": "stream",
     "text": [
      "[0. 0. 0. 0. 0. 0. 0. 0. 0. 0. 0. 0. 0. 0. 0. 0. 0. 0. 0. 0. 0. 0. 0. 0.\n",
      " 0. 0. 0. 0. 0. 0. 0. 0. 0. 0. 0. 0. 0. 0. 0. 0. 0. 0. 0. 0. 0. 0. 0. 0.\n",
      " 0. 0. 0. 0. 0. 0. 0. 0. 0. 0. 0. 0. 0. 0. 0. 0. 0. 0. 0. 0. 0. 0. 0. 0.\n",
      " 0. 0. 0. 0. 0. 0. 0. 0. 0. 0. 0. 0. 0. 0. 0. 0. 0. 0. 0. 0. 0. 0. 0. 0.\n",
      " 0. 0. 0. 0. 0. 0. 0. 0. 0. 0. 0. 0. 0. 0. 0. 0. 0. 0. 0. 0. 0. 0. 0. 0.\n",
      " 0. 0. 0. 0. 0. 0. 0. 0. 0. 0. 0. 0. 0. 0. 0. 0. 0. 0. 0. 0. 0. 0. 0. 0.\n",
      " 0. 0. 0. 0. 0. 0.]\n",
      "[1. 1. 1. 1. 1. 1. 1. 1. 1. 1. 1. 1. 1. 1. 1. 1. 1. 1. 1. 1. 1. 1. 1. 1.\n",
      " 1. 1. 1. 1. 1. 1. 1. 1. 1. 1. 1. 1. 1. 1. 1. 1. 1. 1. 1. 1. 1. 1. 1. 1.\n",
      " 1. 1. 1. 1. 1. 1. 1. 1. 1. 1. 1. 1. 1. 1. 1. 1. 1. 1. 1. 1. 1. 1. 1. 1.\n",
      " 1. 1. 1. 1. 1. 1. 1. 1. 1. 1. 1. 1. 1. 1. 1. 1. 1. 1. 1. 1. 1. 1. 1. 1.\n",
      " 1. 1. 1. 1. 1. 1. 1. 1. 1. 1. 1. 1. 1. 1. 1. 1. 1. 1. 1. 1. 1. 1. 1. 1.\n",
      " 1. 1. 1. 1. 1. 1. 1. 1. 1. 1. 1. 1. 1. 1. 1. 1. 1. 1. 1. 1. 1. 1. 1. 1.\n",
      " 1. 1. 1. 1. 1. 1.]\n"
     ]
    },
    {
     "data": {
      "text/plain": [
       "<matplotlib.legend.Legend at 0x6c3754d0>"
      ]
     },
     "execution_count": 43,
     "metadata": {},
     "output_type": "execute_result"
    },
    {
     "data": {
      "image/png": "[encoded data removed]",
      "text/plain": [
       "<Figure size 432x288 with 1 Axes>"
      ]
     },
     "metadata": {
      "needs_background": "light"
     },
     "output_type": "display_data"
    }
   ],
   "source": [
    "# number of iterations\n",
    "N_iter = 150\n",
    "\n",
    "ground_prob = np.zeros((N_iter,step+1))\n",
    "exited_prob = np.zeros((N_iter,step+1))\n",
    "for i in range(N_iter):\n",
    "    ground_prob[i,:],exited_prob[i,:] = QMCWF2(U,L,psi_0,step)\n",
    "\n",
    "ground_avg = np.zeros(step+1)\n",
    "exited_avg = np.zeros(step+1)\n",
    "\n",
    "print( ground_prob[:,1])\n",
    "print(exited_prob[:,1])\n",
    "for i in range(step+1):\n",
    "    ground_avg[i] = np.sum(ground_prob[:,i])/N_iter\n",
    "    exited_avg[i] = np.sum(exited_prob[:,i])/N_iter\n",
    "    \n",
    "\n",
    "plt.plot(tlist,ground_avg,label = \"ground state\")\n",
    "plt.plot(tlist,exited_avg, label = \"exited state\")\n",
    "plt.legend()\n"
   ]
  },
  {
   "cell_type": "code",
   "execution_count": 44,
   "id": "vocal-china",
   "metadata": {},
   "outputs": [
    {
     "name": "stdout",
     "output_type": "stream",
     "text": [
      "(40001,)\n",
      "(40001,)\n",
      "[ 1.03092548 -1.90173408]\n",
      "comparing the gamma = 1 theoretical value with the simulation =  1.9017340839778123\n"
     ]
    },
    {
     "data": {
      "image/png": "[encoded data removed]",
      "text/plain": [
       "<Figure size 864x576 with 1 Axes>"
      ]
     },
     "metadata": {
      "needs_background": "light"
     },
     "output_type": "display_data"
    }
   ],
   "source": [
    "print(tlist.shape)\n",
    "print(exited_avg.shape)\n",
    "def test(x, a, b):\n",
    "    return a*np.exp(b*x)\n",
    " \n",
    "param, param_cov = curve_fit(test, tlist, exited_avg)\n",
    "print(param)\n",
    "fig = plt.figure(figsize=(12, 8))\n",
    "plt.plot(tlist,param[0]*np.exp(param[1]*tlist), label = \"curve fit\")\n",
    "plt.plot(tlist,exited_avg, label = \"exited state\")\n",
    "plt.xlabel(\"time in sec\")\n",
    "plt.ylabel(\"probability of exited state\")\n",
    "plt.legend()\n",
    "print(\"comparing the gamma = 1 theoretical value with the simulation = \",-param[1])"
   ]
  },
  {
   "cell_type": "markdown",
   "id": "bronze-liability",
   "metadata": {},
   "source": [
    "### it could have been more accurate with bigger steps. "
   ]
  },
  {
   "cell_type": "code",
   "execution_count": 31,
   "id": "multiple-controversy",
   "metadata": {},
   "outputs": [
    {
     "name": "stdout",
     "output_type": "stream",
     "text": [
      "(40001,)\n",
      "40000\n",
      "(2, 2, 2)\n",
      "[[0.70710678]\n",
      " [0.70710678]]\n"
     ]
    }
   ],
   "source": [
    "# now for the more general part of quantum monte carlo \n",
    "psi_0 = np.array([[1/np.sqrt(2)],[1/np.sqrt(2)]])\n",
    "gamma = 1\n",
    "hbar = 1\n",
    "nth = 0.063\n",
    "c_1 = np.sqrt(gamma * (1 + nth)) * a(1)\n",
    "c_2 = np.sqrt(gamma * nth) * adagger(1)\n",
    "c_3 = np.array([c_1,c_2])\n",
    "dt = 0.0001\n",
    "t = 4.0000\n",
    "step = int(t/dt)\n",
    "tlist = np.arange(0,4.0001,dt)\n",
    "w_t = 1.0 * 2 * np.pi\n",
    "H = w_t * np.dot(adagger(1),a(1))\n",
    "H_eff = H - ((1j)*hbar)/2 * (np.dot(c_1.conj().T,c_1)+ np.dot(c_2.conj().T,c_2))\n",
    "U = np.eye(2) - ((1j)*dt)/hbar * H_eff\n",
    "U_dagger = U.conj().T\n",
    "\n",
    "print(tlist.shape)\n",
    "\n",
    "print(step)\n",
    "print(c_3.shape)\n",
    "print(psi_0)"
   ]
  },
  {
   "cell_type": "code",
   "execution_count": 33,
   "id": "quick-hungary",
   "metadata": {},
   "outputs": [],
   "source": [
    "def QMCWF3(U,L,psi_0i,step):\n",
    "    \n",
    "    psi_f = psi_0i\n",
    "    psi_n = psi_0i\n",
    "    prob_g = np.zeros(step+1)\n",
    "    prob_e = np.zeros(step+1)\n",
    "    prob_g[0] = abs(psi_0i[0,0])**2\n",
    "    prob_e[0] = abs(psi_0i[1,0])**2\n",
    "    for t in range(step):\n",
    "        size = np.dot(np.dot(psi_0i.conj().T,U_dagger),np.dot(U,psi_0i))\n",
    "        jump_prob = 1.0 - float(size[0,0])\n",
    "        #print(jump_prob)\n",
    "        \n",
    "        epsilon = random.rand()\n",
    "        if epsilon > jump_prob:\n",
    "            psi_f = np.dot(U,psi_0i)\n",
    "            psi_n = psi_f/(lg.norm(psi_f))\n",
    "            #print(abs(psi_n[1,0])**2)\n",
    "            prob_g[t+1] = abs(psi_n[0,0])**2\n",
    "            prob_e[t+1] = abs(psi_n[1,0])**2\n",
    "            psi_0i = psi_n\n",
    "        else :\n",
    "            cum_pro = 0\n",
    "            dpm = 0\n",
    "            count = 0\n",
    "            for K in range(2):\n",
    "                psi_f = np.dot(L[K,:,:],psi_0i)\n",
    "                dpm = dt* np.abs(np.dot(psi_f.conj().T,psi_f ))\n",
    "                print(dt* np.abs(np.dot(psi_f.conj().T,psi_f)))\n",
    "                cum_pro += dpm\n",
    "                count += 1\n",
    "                if epsilon < cum_pro:\n",
    "                    psi_f /= np.sqrt(dpm / dt)\n",
    "                    psi_n = psi_f\n",
    "                    prob_g[t+1] = abs(psi_n[0,0])**2\n",
    "                    prob_e[t+1] = abs(psi_n[1,0])**2\n",
    "                    psi_0i = psi_n\n",
    "                    break\n",
    "            if count == 1:\n",
    "               prob_g[t+2:step+2] = 1 \n",
    "               \n",
    "                     \n",
    "    return prob_g,prob_e\n",
    "            "
   ]
  },
  {
   "cell_type": "code",
   "execution_count": null,
   "id": "noticed-cameroon",
   "metadata": {},
   "outputs": [],
   "source": [
    "k_1 = np.dot(np.dot(psi_0i.conj().T,c_1.conj().T),np.dot(c_1,psi_0i))\n",
    "            \n",
    "            k_2 = np.dot(np.dot(psi_0i.conj().T,c_2.conj().T),np.dot(c_2,psi_0i))\n",
    "            K_3 = dt*float(k_1[0,0]) + dt*float(k_2[0,0])\n",
    "            print(\"k_1 = \",dt*float(k_1[0,0]))\n",
    "            print(\"k_2 = \",dt*float(k_2[0,0]))\n",
    "            C = np.random.choice([0,1], size = None, p = [dt*float(k_1[0,0])/K_3,dt*float(k_2[0,0])/K_3])\n",
    "            if C == 0:\n",
    "                psi_f = np.dot(c_1,psi_0i)\n",
    "                psi_n = psi_f/lg.norm(psi_f)\n",
    "                prob_g[t+1] = abs(psi_n[0,0])**2\n",
    "                prob_e[t+1] = abs(psi_n[1,0])**2\n",
    "                prob_g[t+2:step+2] = 1\n",
    "                break\n",
    "            else :\n",
    "                psi_f = np.dot(c_2,psi_0i)\n",
    "                psi_n = psi_f/lg.norm(psi_f)\n",
    "                prob_g[t+1] = abs(psi_n[0,0])**2\n",
    "                prob_e[t+1] = abs(psi_n[1,0])**2\n",
    "                prob_g[t+2:step+2] = 1\n",
    "                break\n",
    "    return prob_g,prob_e"
   ]
  },
  {
   "cell_type": "code",
   "execution_count": 38,
   "id": "structured-amount",
   "metadata": {},
   "outputs": [
    {
     "name": "stderr",
     "output_type": "stream",
     "text": [
      "/home/pi/.local/lib/python3.7/site-packages/ipykernel_launcher.py:11: ComplexWarning: Casting complex values to real discards the imaginary part\n",
      "  # This is added back by InteractiveShellApp.init_path()\n"
     ]
    },
    {
     "name": "stdout",
     "output_type": "stream",
     "text": [
      "[[5.19034529e-05]]\n",
      "[[0.]]\n",
      "[[6.3e-06]]\n",
      "[[0.0001063]]\n",
      "[0.5000249]\n",
      "[0.4999751]\n"
     ]
    },
    {
     "data": {
      "text/plain": [
       "<matplotlib.legend.Legend at 0x6cdcbe30>"
      ]
     },
     "execution_count": 38,
     "metadata": {},
     "output_type": "execute_result"
    },
    {
     "data": {
      "image/png": "[encoded data removed]",
      "text/plain": [
       "<Figure size 432x288 with 1 Axes>"
      ]
     },
     "metadata": {
      "needs_background": "light"
     },
     "output_type": "display_data"
    }
   ],
   "source": [
    "# number of iterations\n",
    "N_iter = 1\n",
    "\n",
    "ground_prob = np.zeros((N_iter,step+1))\n",
    "exited_prob = np.zeros((N_iter,step+1))\n",
    "for i in range(N_iter):\n",
    "    ground_prob[i,:],exited_prob[i,:] = QMCWF3(U,c_3,psi_0,step)\n",
    "\n",
    "ground_avg = np.zeros(step+1)\n",
    "exited_avg = np.zeros(step+1)\n",
    "\n",
    "print( ground_prob[:,1])\n",
    "print(exited_prob[:,1])\n",
    "for i in range(step+1):\n",
    "    ground_avg[i] = np.sum(ground_prob[:,i])/N_iter\n",
    "    exited_avg[i] = np.sum(exited_prob[:,i])/N_iter\n",
    "    \n",
    "\n",
    "#plt.plot(tlist,ground_avg,label = \"ground state\")\n",
    "plt.plot(tlist,exited_avg, label = \"exited state\")\n",
    "plt.legend()"
   ]
  },
  {
   "cell_type": "code",
   "execution_count": null,
   "id": "southwest-positive",
   "metadata": {},
   "outputs": [],
   "source": []
  }
 ],
 "metadata": {
  "kernelspec": {
   "display_name": "Python 3",
   "language": "python",
   "name": "python3"
  },
  "language_info": {
   "codemirror_mode": {
    "name": "ipython",
    "version": 3
   },
   "file_extension": ".py",
   "mimetype": "text/x-python",
   "name": "python",
   "nbconvert_exporter": "python",
   "pygments_lexer": "ipython3",
   "version": "3.7.3"
  }
 },
 "nbformat": 4,
 "nbformat_minor": 5
}
